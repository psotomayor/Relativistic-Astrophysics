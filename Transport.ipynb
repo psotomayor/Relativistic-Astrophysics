{
 "cells": [
  {
   "cell_type": "markdown",
   "metadata": {
    "id": "haAOZ7eA5RZb"
   },
   "source": [
    "# Transport equation\n",
    "\n",
    "### By: Pablo Sotomayor \n",
    "\n",
    "---"
   ]
  },
  {
   "cell_type": "markdown",
   "metadata": {
    "id": "6-KmOWPd5RZg"
   },
   "source": [
    "## Steady one-zone model"
   ]
  },
  {
   "cell_type": "markdown",
   "metadata": {
    "id": "Pn7fLK-g5RZh"
   },
   "source": [
    "Let us first see how to numerically solve the transport equation:\n",
    "\n",
    "${\\large \\frac{{\\rm d}}{{\\rm d}E}}[b(E)N(E)] + {\\large \\frac{N(E)}{T_{\\rm esc}}} = Q(E)$\n",
    "\n",
    "where:\n",
    "\n",
    "$N(E)$ : Number of particles with energy in the range $(E, E+{\\rm d}E)$ $[{\\rm erg^{-1}}]$\n",
    "\n",
    "$b(E) = {\\rm d}E/{\\rm d}t$: Timescale of continuous losses of particles $[{\\rm erg\\, s^{-1}}]$\n",
    "\n",
    "$Q(E)$ : Particle injection function $[{\\rm erg^{-1}\\,s^{-1}}]$\n",
    "\n",
    "$T_{\\rm esc}$: Timescale of particle escape $[s^{-1}]$\n",
    "\n",
    "Continuous losses can be radiative (synchrotron radiation, inverse Compton scattering, etc.) or adiabatic."
   ]
  },
  {
   "cell_type": "code",
   "execution_count": 1,
   "metadata": {
    "id": "wc0elAK75RZi"
   },
   "outputs": [],
   "source": [
    "import numpy as np\n",
    "from math import isclose\n",
    "from scipy.integrate import simps\n",
    "import matplotlib.pyplot as plt\n",
    "import warnings\n",
    "warnings.filterwarnings(\"ignore\")"
   ]
  },
  {
   "cell_type": "code",
   "execution_count": 2,
   "metadata": {
    "id": "am9VHDkj5RZj"
   },
   "outputs": [],
   "source": [
    "# Physical parameters\n",
    "# Units: cgs\n",
    "\n",
    "c = 29979245800.\n",
    "sigmaTh = 6.6524e-25\n",
    "alpha = 7.297352568e-3\n",
    "me = 9.1094e-28\n",
    "qe = 4.8032e-10\n",
    "hp = 6.6261e-27\n",
    "kb = 1.3807e-16\n",
    "deg2rad = np.pi/180\n",
    "rad2deg = 1/deg2rad\n",
    "ev2erg = 1.60218e-12\n",
    "erg2ev = 1./ev2erg"
   ]
  },
  {
   "cell_type": "markdown",
   "metadata": {
    "id": "FQHgueFr5RZk"
   },
   "source": [
    "Data"
   ]
  },
  {
   "cell_type": "code",
   "execution_count": 3,
   "metadata": {
    "id": "vrvvMzV45RZk"
   },
   "outputs": [],
   "source": [
    "Emin = 2*me*c*c                 # minimum energy\n",
    "Emax = 10*1e12 *ev2erg          # maximum energy\n",
    "p = 2                           # spectral index\n",
    "Tesc = 0.1                      # timescale for particle escape\n",
    "Linj = 1e36                     # power in particle injection\n",
    "B = 1e4                         # magnetic field"
   ]
  },
  {
   "cell_type": "markdown",
   "metadata": {
    "id": "1jY6hCKW5RZl"
   },
   "source": [
    "Array of electron energy."
   ]
  },
  {
   "cell_type": "code",
   "execution_count": 4,
   "metadata": {
    "id": "zcVLL4uY5RZm"
   },
   "outputs": [],
   "source": [
    "Egrid = 100\n",
    "\n",
    "arrE = np.logspace(np.log10(Emin), np.log10(Emax), Egrid)"
   ]
  },
  {
   "cell_type": "markdown",
   "metadata": {
    "id": "MxZQq5em5RZn"
   },
   "source": [
    "We calculate the injection function for those energies. We use the equation:\n",
    "\n",
    "$$ L_{\\rm inj} = \\int_{E_{\\rm min}}^{E_{\\rm max}} {\\rm d}E E Q(E) $$\n",
    "\n",
    "From $Q(E) = Q_0 E^{-p}$:\n",
    "\n",
    "$$ Q_0 = \\frac{\\int_{E_{\\rm min}}^{E_{\\rm max}} {\\rm d}E E^{-p+1}}{L_{\\rm inj}} $$\n"
   ]
  },
  {
   "cell_type": "code",
   "execution_count": 5,
   "metadata": {
    "id": "9pAHyX0h5RZn"
   },
   "outputs": [],
   "source": [
    "integral = simps(arrE**(-p+1),arrE)\n",
    "\n",
    "Q0 = Linj/integral\n",
    "\n",
    "arrQ = Q0*arrE**(-p)"
   ]
  },
  {
   "cell_type": "markdown",
   "metadata": {
    "id": "jPIBHs_X5RZo"
   },
   "source": [
    "Array of cooling time. We consider only synchrotron losses."
   ]
  },
  {
   "cell_type": "code",
   "execution_count": 6,
   "metadata": {
    "id": "NqKZKOK25RZo"
   },
   "outputs": [],
   "source": [
    "# Function that returns the synchrotron cooling time\n",
    "\n",
    "def synchrotronCoolingTime(\n",
    "    magneticField:float, \n",
    "    lorentzFactor:float, \n",
    "    particle: str, \n",
    "    pitchAngle:np.array=np.arcsin(np.sqrt(2/3))):\n",
    "    if particle == 'electron':\n",
    "        mass = me\n",
    "        classicalRaiuds = qe**2 /mass/c/c\n",
    "    power = (2*c*(classicalRaiuds*np.sin(pitchAngle)*lorentzFactor*magneticField)**2)/3\n",
    "    time = lorentzFactor*mass*c*c/power\n",
    "    return time"
   ]
  },
  {
   "cell_type": "code",
   "execution_count": 7,
   "metadata": {
    "id": "Nr9R0ElR5RZp"
   },
   "outputs": [],
   "source": [
    "arrTcool = synchrotronCoolingTime(magneticField=B, lorentzFactor=arrE/me/c/c, particle='electron')"
   ]
  },
  {
   "cell_type": "markdown",
   "metadata": {
    "id": "1CFu-eVJ5RZq"
   },
   "source": [
    "We set the array of timescale for particle escape."
   ]
  },
  {
   "cell_type": "code",
   "execution_count": 8,
   "metadata": {
    "id": "d8wptPgb5RZq"
   },
   "outputs": [],
   "source": [
    "arrTesc = 0.1*np.ones(Egrid)"
   ]
  },
  {
   "cell_type": "markdown",
   "metadata": {
    "id": "LVfGASKI5RZr"
   },
   "source": [
    "We compute the particle distribution using the integral analytic expression"
   ]
  },
  {
   "cell_type": "code",
   "execution_count": 9,
   "metadata": {
    "id": "dyaRppg-5RZr"
   },
   "outputs": [],
   "source": [
    "# Auxiliary function that returns limits of intervals in which we divide the range of integration\n",
    "\n",
    "def getSubArrays(arr, tol=1e-6):    \n",
    "    #---------------------------------------------------------------------\n",
    "    # Getting the sub arrays\n",
    "    # array 1: [Emin : 10Emin]\n",
    "    # array 2: [10Emin : 100Emin]\n",
    "    # ...\n",
    "    # array N = [10^(N-1) Emin : 10^N Emin]\n",
    "    # if 10^N Emin < Emax then one more array is added \n",
    "    #   interval N+1 = [10^N Emin : Emax]        \n",
    "    #---------------------------------------------------------------------        \n",
    "    xmin = arr[0]\n",
    "    xmax = arr[-1]\n",
    "    nArrays = int(np.log10(xmax/xmin))\n",
    "    key = abs(xmax - xmin*10**nArrays) < tol*xmax \n",
    "    if not key:\n",
    "        nArrays += 1\n",
    "    #---------------------------------------------------------------------            \n",
    "    # Setting the arrays of minimum and maximum energy\n",
    "    # K sub arrays (K = N or K = N+1)\n",
    "    # arrEmin = [Emin, 10Emin, 100Emin, ..., 10^(K-1)Emin]\n",
    "    # arrEmax = [Emax, 10Emax, 100Emax, ..., min(10^K Emin, Emax)]\n",
    "    #---------------------------------------------------------------------\n",
    "    arrMin = np.ones(nArrays) \n",
    "    arrMax = np.ones(nArrays)\n",
    "    for i in range(nArrays):\n",
    "        arrMin[i] = xmin*10**(i)\n",
    "        arrMax[i] = xmin*10**(i+1)    \n",
    "    if not key:            \n",
    "        arrMax[-1] = xmax\n",
    "    return arrMin, arrMax "
   ]
  },
  {
   "cell_type": "code",
   "execution_count": 10,
   "metadata": {},
   "outputs": [
    {
     "data": {
      "text/plain": [
       "(array([1.e-06, 1.e-05, 1.e-04, 1.e-03, 1.e-02, 1.e-01, 1.e+00, 1.e+01,\n",
       "        1.e+02, 1.e+03, 1.e+04, 1.e+05, 1.e+06, 1.e+07, 1.e+08, 1.e+09,\n",
       "        1.e+10, 1.e+11, 1.e+12, 1.e+13, 1.e+14, 1.e+15]),\n",
       " array([1.e-05, 1.e-04, 1.e-03, 1.e-02, 1.e-01, 1.e+00, 1.e+01, 1.e+02,\n",
       "        1.e+03, 1.e+04, 1.e+05, 1.e+06, 1.e+07, 1.e+08, 1.e+09, 1.e+10,\n",
       "        1.e+11, 1.e+12, 1.e+13, 1.e+14, 1.e+15, 4.e+15]))"
      ]
     },
     "execution_count": 10,
     "metadata": {},
     "output_type": "execute_result"
    }
   ],
   "source": [
    "arr = np.logspace(np.log10(1e-6), np.log10(4e15),100)\n",
    "getSubArrays(arr)"
   ]
  },
  {
   "cell_type": "code",
   "execution_count": 11,
   "metadata": {
    "id": "DhgSr1645RZt"
   },
   "outputs": [],
   "source": [
    "from math import exp\n",
    "\n",
    "def transportEquation(\n",
    "    particleEnergy:float,\n",
    "    arrEnergy:np.array,\n",
    "    arrInjection:np.array,\n",
    "    arrCoolingTime:np.array,\n",
    "    escapeTime=None,\n",
    "    escapeEnergyDependent:bool=False,\n",
    "    timeDependent:bool=False)->np.array:\n",
    "       \n",
    "    if timeDependent is False:\n",
    "        #---------------------------------------------------------------------\n",
    "        # Getting Emin and Emax for the integration\n",
    "        #---------------------------------------------------------------------\n",
    "        Emin = particleEnergy\n",
    "        Emax = arrEnergy[-1]\n",
    "        if Emax < Emin:\n",
    "            errorString = 'The particle energy must be lower than the \\\n",
    "                maximum energy'\n",
    "            raise ValueError(errorString)\n",
    "        if isclose(Emin,Emax):\n",
    "            return 0\n",
    "        #---------------------------------------------------------------------\n",
    "        # Getting the arrays of E and Q for the integration\n",
    "        #---------------------------------------------------------------------\n",
    "        arrQ = np.delete(arrInjection,np.where(arrEnergy < Emin))        \n",
    "        arrE = np.delete(arrEnergy,np.where(arrEnergy < Emin))        \n",
    "        #---------------------------------------------------------------------            \n",
    "        # Setting the arrays of minimum and maximum energy \n",
    "        # K intervals \n",
    "        # arrEmin = [Emin, 10Emin, 100Emin, ..., 10^(K-1)Emin]\n",
    "        # arrEmax = [Emax, 10Emax, 100Emax, ..., Emax]\n",
    "        #---------------------------------------------------------------------\n",
    "        arrEmin = getSubArrays(arrE)[0]\n",
    "        arrEmax = getSubArrays(arrE)[1]\n",
    "        nArrays = len(arrEmin) \n",
    "        partialIntegral = np.ones(nArrays)         \n",
    "        #---------------------------------------------------------------------\n",
    "        # Distributing the integral in nArrays partial integrals\n",
    "        # integral = sum(partialIntegral)\n",
    "        #---------------------------------------------------------------------\n",
    "        for i in range(nArrays):\n",
    "            #-----------------------------------------------------------------\n",
    "            # Solving the i-th integral\n",
    "            # arrE_ for E in [arrEmin[i]:arrEmax[i]]\n",
    "            # arrQ_ for Q in [Q(arrEmin[i]):Q(arrEmax[i])]\n",
    "            # IF_ for IF in [IF(arrEmin[i]):IF(arrEmax[i])]\n",
    "            #-----------------------------------------------------------------\n",
    "            arrE_ = np.linspace(arrEmin[i],arrEmax[i],10)\n",
    "            arrQ_ = np.interp(arrE_,arrE,arrQ)           \n",
    "            IF_ = np.zeros(10)                            \n",
    "            for j in range(10):\n",
    "                arrE__ = np.linspace(particleEnergy,arrE_[j],10)\n",
    "                arrTcool__ = np.interp(arrE__,arrEnergy,arrCoolingTime)               \n",
    "                IF_[j] = integratingFactor(arrE__,arrTcool__,escapeTime,\n",
    "                                           escapeEnergyDependent)                \n",
    "            partialIntegral[i] = simps(arrQ_*IF_,arrE_)\n",
    "        particleTcool = np.interp(particleEnergy,arrEnergy,arrCoolingTime)\n",
    "        particleDensity = particleTcool*sum(partialIntegral)/particleEnergy\n",
    "    #=========================================================================\n",
    "    # Non-stationary case\n",
    "    #=========================================================================    \n",
    "    else:\n",
    "        raise NotImplementedError\n",
    "    return particleDensity\n",
    "\n",
    "def integratingFactor(\n",
    "    arrEnergy:np.array,\n",
    "    arrCoolingTime:np.array,\n",
    "    escapeTime,\n",
    "    keyEscape:bool):\n",
    "\n",
    "    #------------------------------------------------------------------------\n",
    "    # Getting Emin and Emax for the integration\n",
    "    #------------------------------------------------------------------------\n",
    "    Emin = arrEnergy[0]\n",
    "    Emax = arrEnergy[-1]\n",
    "    if Emax < Emin:\n",
    "        raise ValueError('Minimum energy must be lower than the maximum energy')\n",
    "    if isclose(Emin,Emax):        \n",
    "        return 1\n",
    "    #------------------------------------------------------------------------\n",
    "    # Getting sub-intervals for the integration\n",
    "    #------------------------------------------------------------------------\n",
    "    arrEmin = getSubArrays([Emin,Emax])[0]\n",
    "    arrEmax = getSubArrays([Emin,Emax])[1]\n",
    "    nArrays = len(arrEmin)\n",
    "    partialIntegral = np.zeros(nArrays)\n",
    "    #------------------------------------------------------------------------\n",
    "    # Distributing the integral in nArrays partial integrals\n",
    "    # integral = sum(partialIntegral)\n",
    "    #------------------------------------------------------------------------\n",
    "    for i in range(nArrays):\n",
    "        #--------------------------------------------------------------------\n",
    "        # For the ith partial integral we define the array of energies arrE,\n",
    "        # the array of cooling times arrTcool, and the array of the escape \n",
    "        # times arrTesc, if applicable.\n",
    "        #--------------------------------------------------------------------\n",
    "        arrE = np.linspace(arrEmin[i],arrEmax[i],10)        \n",
    "        arrTcool = np.interp(arrE,arrEnergy,arrCoolingTime)        \n",
    "        if keyEscape is False:\n",
    "            #----------------------------------------------------------------\n",
    "            # When the escape does not depend on the energy of the particles, \n",
    "            # the integral depends only on the cooling of the particles\n",
    "            #----------------------------------------------------------------\n",
    "            partialIntegral[i] = simps(arrTcool/arrE,arrE)\n",
    "        else:           \n",
    "            partialIntegral[i] = simps(arrTcool/arrE/escapeTime,arrE)\n",
    "    integral = sum(partialIntegral)    \n",
    "    if keyEscape is False and escapeTime is not None:\n",
    "        integral /= escapeTime\n",
    "    return np.exp(-integral)"
   ]
  },
  {
   "cell_type": "code",
   "execution_count": 12,
   "metadata": {
    "colab": {
     "base_uri": "https://localhost:8080/",
     "height": 456
    },
    "id": "4q2OJzYT5RZv",
    "outputId": "740c7ebf-8dfa-45bd-a859-ad6ccd7b154b"
   },
   "outputs": [
    {
     "data": {
      "image/png": "[encoded data removed]",
      "text/plain": [
       "<Figure size 720x504 with 1 Axes>"
      ]
     },
     "metadata": {
      "needs_background": "light"
     },
     "output_type": "display_data"
    }
   ],
   "source": [
    "arrDistribution_cool = np.zeros(Egrid)\n",
    "\n",
    "for i in range(Egrid):        \n",
    "    arrDistribution_cool[i] = transportEquation(particleEnergy=arrE[i],\n",
    "                                               arrEnergy=arrE,\n",
    "                                               arrInjection=arrQ,\n",
    "                                               arrCoolingTime=arrTcool,\n",
    "                                               escapeTime=None,\n",
    "                                               escapeEnergyDependent=False)\n",
    "\n",
    "\n",
    "arrDistribution_esc = arrQ*arrTesc\n",
    "\n",
    "arrDistribution_total = 1./(1./arrDistribution_esc + 1./arrDistribution_cool)\n",
    "\n",
    "plt.figure(figsize=(10,7))\n",
    "plt.plot(np.log10(arrE*erg2ev),np.log10(arrE*arrE*arrDistribution_cool), ls = \"--\", c='green', label='cooling')\n",
    "plt.plot(np.log10(arrE*erg2ev),np.log10(arrE*arrE*arrDistribution_esc), ls = \"--\", c='blue', label='escape')\n",
    "plt.plot(np.log10(arrE*erg2ev),np.log10(arrE*arrE*arrDistribution_total), lw=3, c='red', label='total')\n",
    "plt.xlabel(r\"$\\log_{10} ({\\rm E_{e}\\,/\\,eV})$\", fontsize=16)\n",
    "plt.ylabel(r\"$\\log_{10} ({\\rm E_{e}^2 N_{e}\\,/\\,erg})$\", fontsize=16)\n",
    "plt.xticks(fontsize=16)\n",
    "plt.yticks(fontsize=16)\n",
    "plt.legend(fontsize=16)\n",
    "plt.show()"
   ]
  },
  {
   "cell_type": "markdown",
   "metadata": {
    "id": "j7_6kYGGAUiS"
   },
   "source": [
    "A change in slope is observed in the particle spectrum. Breakdown occurs at the transition from the exhaust-dominated regime to the cooling-dominated regime."
   ]
  },
  {
   "cell_type": "markdown",
   "metadata": {
    "id": "J2kNGtt45RZx"
   },
   "source": [
    "We plot the cooling and escape timescales."
   ]
  },
  {
   "cell_type": "code",
   "execution_count": 13,
   "metadata": {
    "colab": {
     "base_uri": "https://localhost:8080/",
     "height": 456
    },
    "id": "zeICA07l5RZx",
    "outputId": "d5bc0856-1177-41d4-e252-338ad18f7483"
   },
   "outputs": [
    {
     "data": {
      "image/png": "[encoded data removed]",
      "text/plain": [
       "<Figure size 720x504 with 1 Axes>"
      ]
     },
     "metadata": {
      "needs_background": "light"
     },
     "output_type": "display_data"
    }
   ],
   "source": [
    "plt.figure(figsize=(10,7))\n",
    "plt.plot(np.log10(arrE*erg2ev), -np.log10(arrTcool),c='purple', label='synchrotron')\n",
    "plt.plot(np.log10(arrE*erg2ev), -np.log10(arrTesc),c='green', label='escape')\n",
    "plt.xlabel(r\"$\\log_{10} ({\\rm E_{e}\\,/\\,eV})$\", fontsize=16)\n",
    "plt.ylabel(r\"$\\log_{10} ({\\rm t^{-1}\\,/\\,s^{-1}})$\", fontsize=16)\n",
    "plt.xticks(fontsize=16)\n",
    "plt.yticks(fontsize=16)\n",
    "plt.legend(fontsize=16)\n",
    "plt.show()"
   ]
  },
  {
   "cell_type": "markdown",
   "metadata": {
    "id": "KHwFqXqWAkXQ"
   },
   "source": [
    "For electrons with $E_{\\rm e} < 30\\, {\\rm MeV}$, escape from the acceleration region dominates. Synchrotron radiation cooling is dominant for $E_{\\rm e} > 30\\,{\\rm MeV}$."
   ]
  },
  {
   "cell_type": "markdown",
   "metadata": {
    "id": "4ma_aEfD5RZy"
   },
   "source": [
    "## Time-dependent one-zone model"
   ]
  },
  {
   "cell_type": "markdown",
   "metadata": {
    "id": "6HXLocv45RZy"
   },
   "source": [
    "${\\large \\frac{\\partial N(E,t)}{\\partial t} + \\frac{\\partial}{\\partial E}}[b(E)N(E)] + {\\large \\frac{N(E)}{T_{\\rm esc}}} = Q(E)$\n",
    "\n",
    "where\n",
    "\n",
    "$Q(E) = K E^{-p} \\delta(t)$\n",
    "\n",
    "In the case of radiative losses where $b(E) = AE^2$ , the solution is given by:\n",
    "\n",
    "$N(E) = K E^{-p} (1 - AEt)^{p-2}$, para $AEt \\leq 1$\n",
    "\n",
    "$N(E) = 0$, para $AEt > 1$\n",
    "\n",
    "In particular, for synchrotron losses:\n",
    "\n",
    "$A = {\\large \\frac{4}{3}}\\sigma_{\\rm T}c {\\large \\frac{U_{\\rm B}}{(mc^2)^2}}$"
   ]
  },
  {
   "cell_type": "markdown",
   "metadata": {
    "id": "Tan6BvbO5RZz"
   },
   "source": [
    "We consider that at $t=0$ the total energy in relativistic particles is:\n",
    "\n",
    "$$E = \\int_{E_{\\rm min}}^{E_{\\rm max}} {\\rm d}E E N(E,t=0) = 10^{30}\\,{\\rm erg} $$"
   ]
  },
  {
   "cell_type": "code",
   "execution_count": 14,
   "metadata": {
    "id": "nBzGcTWD5RZz"
   },
   "outputs": [],
   "source": [
    "# Data\n",
    "\n",
    "Emin = 1e6 *ev2erg\n",
    "Emax = 1e2 * 1e9 *ev2erg\n",
    "B = 10\n",
    "Et = 1e30\n",
    "p = 2.3"
   ]
  },
  {
   "cell_type": "code",
   "execution_count": 15,
   "metadata": {
    "id": "HVQYgDdW5RZ0"
   },
   "outputs": [],
   "source": [
    "Egrid = 1000\n",
    "\n",
    "arrE = np.logspace(np.log10(Emin), np.log10(Emax), Egrid)"
   ]
  },
  {
   "cell_type": "code",
   "execution_count": 16,
   "metadata": {
    "id": "63EYndHI5RZ0"
   },
   "outputs": [],
   "source": [
    "# Calculation of the normalization constant\n",
    "\n",
    "uB = B**2 /8/np.pi\n",
    "A = (4/3.)*sigmaTh*uB/me/me/c/c/c\n",
    "\n",
    "integral = simps(A*arrE**(-p+1),arrE)\n",
    "\n",
    "K = Et/integral"
   ]
  },
  {
   "cell_type": "code",
   "execution_count": 17,
   "metadata": {
    "id": "DbhYX43A5RZ1"
   },
   "outputs": [],
   "source": [
    "# Function to calculate particle distribution\n",
    "\n",
    "def distribution(particleEnergy, spectralIndex, magneticField, normalizationConstant, time):\n",
    "    uB = magneticField**2 /8/np.pi\n",
    "    A = (4/3.)*sigmaTh*uB/me/me/c/c/c\n",
    "    x = A*particleEnergy*time\n",
    "    if x <= 1:\n",
    "        return normalizationConstant*particleEnergy**(-p) *(1 - x)**(p-2)\n",
    "    else:\n",
    "        return 0"
   ]
  },
  {
   "cell_type": "code",
   "execution_count": 18,
   "metadata": {
    "id": "WK-u2kod5RZ1"
   },
   "outputs": [],
   "source": [
    "# Particle distribution for some times\n",
    "\n",
    "arrDistribution_1e2 =  np.zeros(Egrid)\n",
    "for i in range(Egrid):\n",
    "    arrDistribution_1e2[i] = distribution(particleEnergy = arrE[i], \n",
    "                                        spectralIndex = p, \n",
    "                                        magneticField = B, \n",
    "                                        normalizationConstant = K, \n",
    "                                        time = 1e2)\n",
    "\n",
    "arrDistribution_1e4 =  np.zeros(Egrid)\n",
    "for i in range(Egrid):\n",
    "    arrDistribution_1e4[i] = distribution(particleEnergy = arrE[i], \n",
    "                                        spectralIndex = p, \n",
    "                                        magneticField = B, \n",
    "                                        normalizationConstant = K, \n",
    "                                        time = 1e4)\n",
    "\n",
    "arrDistribution_1e6 =  np.zeros(Egrid)\n",
    "for i in range(Egrid):\n",
    "    arrDistribution_1e6[i] = distribution(particleEnergy = arrE[i], \n",
    "                                        spectralIndex = p, \n",
    "                                        magneticField = B, \n",
    "                                        normalizationConstant = K, \n",
    "                                        time = 1e6)"
   ]
  },
  {
   "cell_type": "code",
   "execution_count": 19,
   "metadata": {
    "colab": {
     "base_uri": "https://localhost:8080/",
     "height": 456
    },
    "id": "oc0sA1Ir5RZ2",
    "outputId": "5425fdc3-8bcc-4edd-f755-dd751d0b883a"
   },
   "outputs": [
    {
     "data": {
      "image/png": "[encoded data removed]",
      "text/plain": [
       "<Figure size 720x504 with 1 Axes>"
      ]
     },
     "metadata": {
      "needs_background": "light"
     },
     "output_type": "display_data"
    }
   ],
   "source": [
    "plt.figure(figsize=(10,7))\n",
    "plt.plot(np.log10(arrE*erg2ev),np.log10(arrE*arrE*arrDistribution_1e2), ls = \"-\", c='blue', label=r'$t=10^2\\,{\\rm s}$')\n",
    "plt.plot(np.log10(arrE*erg2ev),np.log10(arrE*arrE*arrDistribution_1e4), ls = \"-\", c='red', label=r'$t=10^4\\,{\\rm s}$')\n",
    "plt.plot(np.log10(arrE*erg2ev),np.log10(arrE*arrE*arrDistribution_1e6), ls = \"-\", c='green', label=r'$t=10^6\\,{\\rm s}$')\n",
    "plt.xlabel(r\"$\\log_{10} ({\\rm E_{e}\\,/\\,eV})$\", fontsize=16)\n",
    "plt.ylabel(r\"$\\log_{10} ({\\rm E_{e}^2 N_{e}\\,/\\,erg})$\", fontsize=16)\n",
    "plt.xticks(fontsize=16)\n",
    "plt.yticks(fontsize=16)\n",
    "plt.legend(fontsize=16)\n",
    "plt.show()"
   ]
  },
  {
   "cell_type": "markdown",
   "metadata": {
    "id": "nEiRA46wBPh4"
   },
   "source": [
    "The maximum energy reached by the electrons is lower as time progresses since injection."
   ]
  },
  {
   "cell_type": "code",
   "execution_count": 20,
   "metadata": {
    "id": "Urd0rnlh5RZ2"
   },
   "outputs": [],
   "source": [
    "arrTcool = synchrotronCoolingTime(magneticField=B, lorentzFactor=arrE/me/c/c, particle='electron')"
   ]
  },
  {
   "cell_type": "code",
   "execution_count": 21,
   "metadata": {
    "colab": {
     "base_uri": "https://localhost:8080/",
     "height": 456
    },
    "id": "XA1NsdVa5RZ3",
    "outputId": "6468e25a-295d-470e-e3ee-59583f1b22a3"
   },
   "outputs": [
    {
     "data": {
      "image/png": "[encoded data removed]",
      "text/plain": [
       "<Figure size 720x504 with 1 Axes>"
      ]
     },
     "metadata": {
      "needs_background": "light"
     },
     "output_type": "display_data"
    }
   ],
   "source": [
    "plt.figure(figsize=(10,7))\n",
    "plt.plot(np.log10(arrE*erg2ev), np.log10(arrTcool),c='purple', label='synchrotron')\n",
    "plt.plot(np.log10(arrE*erg2ev), np.log10(100*np.ones(Egrid)),c='green', ls =\"--\", label=r'$t=10^2\\,{\\rm s}$')\n",
    "plt.plot(np.log10(arrE*erg2ev), np.log10(1e4*np.ones(Egrid)),c='red', ls=\"--\", label=r'$t=10^4\\,{\\rm s}$')\n",
    "plt.plot(np.log10(arrE*erg2ev), np.log10(1e6*np.ones(Egrid)),c='black', ls=\"--\", label=r'$t=10^6\\,{\\rm s}$')\n",
    "plt.xlabel(r\"$\\log_{10} ({\\rm E_{e}\\,/\\,eV})$\", fontsize=16)\n",
    "plt.ylabel(r\"$\\log_{10} ({\\rm t^{-1}\\,/\\,s^{-1}})$\", fontsize=16)\n",
    "plt.xticks(fontsize=16)\n",
    "plt.yticks(fontsize=16)\n",
    "plt.legend(fontsize=16)\n",
    "plt.show()"
   ]
  },
  {
   "cell_type": "markdown",
   "metadata": {
    "id": "RvJHMbi-Boeu"
   },
   "source": [
    "The maximum energy of the electrons is determined by the synchrotron cooling and the time since injection."
   ]
  }
 ],
 "metadata": {
  "colab": {
   "collapsed_sections": [],
   "provenance": []
  },
  "kernelspec": {
   "display_name": "Python 3 (ipykernel)",
   "language": "python",
   "name": "python3"
  },
  "language_info": {
   "codemirror_mode": {
    "name": "ipython",
    "version": 3
   },
   "file_extension": ".py",
   "mimetype": "text/x-python",
   "name": "python",
   "nbconvert_exporter": "python",
   "pygments_lexer": "ipython3",
   "version": "3.8.13"
  }
 },
 "nbformat": 4,
 "nbformat_minor": 1
}
