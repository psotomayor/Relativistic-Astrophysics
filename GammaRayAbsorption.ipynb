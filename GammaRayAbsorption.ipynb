{
 "cells": [
  {
   "cell_type": "markdown",
   "id": "e99e6fee",
   "metadata": {},
   "source": [
    "# Gamma-ray absorption\n",
    "\n",
    "#### By: Pablo Sotomayor\n",
    "---"
   ]
  },
  {
   "cell_type": "markdown",
   "id": "5cabc20a",
   "metadata": {},
   "source": [
    "The production of electron-positron pairs by annihilation of two photons\n",
    "\n",
    "$$\\gamma + \\gamma \\rightarrow e^+ + e^-$$\n",
    "\n",
    "plays a double role: it is a source of secondary pairs and a mechanism of photon absorption. This process is possible only above the kinematic energy threshold\n",
    "\n",
    "$$\\epsilon E_{\\gamma} (1 - \\cos \\theta) \\geq 2m_{e}^2 c^4$$\n",
    "\n",
    "where $E_{\\gamma}$ and $\\epsilon$ are the energies of the photons, and $\\theta$ is the collission angle in the observer frame. The annihilation cross section is\n",
    "\n",
    "$$\\sigma_{\\gamma \\gamma}(\\beta) = \\frac{3}{16}\\sigma_{\\rm T}\\left(1 - \\beta^2 \\right) \\left[\\left(3 - \\beta^4 \\right) \\ln \\left(\\frac{1 + \\beta}{1 - \\beta} \\right) - 2\\beta \\left(2 - \\beta^2 \\right) \\right]$$\n",
    "\n",
    "Here $\\beta = \\left(1 - \\gamma_{e}^{-2} \\right)^{1/2}$ and $\\gamma_{e}$ is the Lorentz factor of the electron (positron) in the center of momentum frame. It is related to the energy of the photons and the collision angle as\n",
    "\n",
    "$$\\left(1 - \\beta^2 \\right) = \\frac{2m_{e}^2 c^4}{\\left(1 - \\cos \\theta \\right)\\epsilon E_{\\gamma}} \\qquad 0 \\leq \\beta < 1$$\n",
    "\n",
    "We define the optical depth $\\tau_{\\gamma \\gamma}(E_{\\gamma}, R)$ as the probability that a photon of energy $E_{\\gamma}$ annihilates against another photon of the target radiation field $n_{\\rm ph}(\\epsilon, \\vec{r})$, after traversing a distance $R$. It is given by:\n",
    "\n",
    "$$\\tau_{\\gamma \\gamma}(E_{\\gamma}, R) = \\frac{1}{2}\\int_{0}^{R}{\\rm d} \\ell \\int_{\\epsilon_{\\rm thr}}^{\\infty}{\\rm d}\\epsilon \\int_{-1}^{u_{\\rm max}} {\\rm d}u \\left(1 - u \\right) \\sigma_{\\gamma \\gamma}(E_{\\gamma}, \\epsilon, u)\\, n_{\\rm ph}(\\epsilon, \\vec{r})$$ \n",
    "\n",
    "where $u = \\cos \\theta$ and $\\ell$ is a spatial variable along the path of the photon. The integration limits are\n",
    "\n",
    "$$\\epsilon_{\\rm thr} = \\frac{m_{e}^2 c^4}{E_{\\gamma}}$$\n",
    "\n",
    "and\n",
    "\n",
    "$$u_{\\rm max} = 1 - \\frac{2 m_{e}^2 c^4}{\\epsilon E_{\\gamma}}$$\n",
    "\n",
    "Because of the narrowness of the pair production cross section, a gamma ray of energy $E_\\gamma$ can effectively be absorbed by photons with energy in a narrow band centered at $\\epsilon \\approx 4m_{e}^2 c^4/E_{\\gamma}$.\n",
    "\n",
    "The luminosities must be corrected to take into account the probability that the photons are absorbed on their way to the observer. We only consider the absorption by photon-photon annihilation in the radiation field of the cosmic microwave background.\n",
    "\n",
    "In order to obtain the corrected luminosity, an overall coefficient is applied to the \"primary\" luminosity\n",
    "\n",
    "$$L_{\\gamma}(E_{\\gamma})^{\\rm abs} = \\exp\\left[-\\tau_{\\gamma \\gamma} (E_{\\gamma}) \\right]L_{\\gamma}(E_{\\gamma})$$\n",
    "\n",
    "Here $\\tau_{\\gamma \\gamma} (E_{\\gamma}) = \\lim_{R\\rightarrow \\infty} \\tau_{\\gamma \\gamma}(E_{\\gamma}, R)$."
   ]
  },
  {
   "cell_type": "code",
   "execution_count": 1,
   "id": "1cd565c1",
   "metadata": {},
   "outputs": [],
   "source": [
    "# Getting libraries\n",
    "\n",
    "import numpy as np\n",
    "from scipy.special import kv\n",
    "from scipy.integrate import simps\n",
    "from math import pi, isclose, exp, log10, log, sqrt\n",
    "import matplotlib.pyplot as plt\n",
    "import warnings\n",
    "warnings.filterwarnings(\"ignore\")\n",
    "%matplotlib inline"
   ]
  },
  {
   "cell_type": "code",
   "execution_count": 2,
   "id": "bd825c02",
   "metadata": {},
   "outputs": [],
   "source": [
    "# Physical parameters\n",
    "# Units: cgs\n",
    "\n",
    "lightVelocity = 29979245800\n",
    "thomsonCrossSection = 6.6524e-25\n",
    "fineStructureConstant = 7.297352568e-3\n",
    "electronMass = 9.1094e-28\n",
    "protonMass = 1.6726e-24\n",
    "elementalCharge = 4.8032e-10\n",
    "erg2ev = 6.242e11\n",
    "ev2erg = 1/erg2ev\n",
    "solarMass = 1.989e33\n",
    "solarRadius = 6.96e10\n",
    "gravitationalConstant = 6.6743e-8\n",
    "planckConstant = 6.6261e-27\n",
    "boltzmannConstant = 1.3807e-16\n",
    "barn2cm = 1e-24\n",
    "pc2cm = 3.086e18\n",
    "lightday2pc = lightVelocity*24*3600/pc2cm\n",
    "yr2sec = 3.156e7\n",
    "solarLuminosity = 3.839e33\n",
    "astronomicalUnit = 1.496e13\n",
    "stefanBoltzmannConstant = 5.6704e-5\n",
    "deg2rad = pi/180\n",
    "rad2deg = 1/deg2rad"
   ]
  },
  {
   "cell_type": "code",
   "execution_count": 3,
   "id": "3fc34c4f",
   "metadata": {},
   "outputs": [],
   "source": [
    "# Function that returns the physical parameters according to the type of particle\n",
    "\n",
    "def mass(typeParticle):\n",
    "    if typeParticle == 'electron':\n",
    "        massParticle = electronMass\n",
    "    elif typeParticle == 'proton':\n",
    "        massParticle = protonMass    \n",
    "    else:\n",
    "        raise AttributeError('Unknown particle')\n",
    "    return massParticle\n",
    "\n",
    "def charge(typeParticle):\n",
    "    chargeParticle = elementalCharge\n",
    "    if typeParticle == 'neutron':\n",
    "        return 0.\n",
    "    return chargeParticle\n",
    "\n",
    "def classicalRadius(typeParticle):\n",
    "    q = charge(typeParticle)\n",
    "    m = mass(typeParticle)\n",
    "    c = lightVelocity\n",
    "    return  q*q/m/c/c\n",
    "\n",
    "def thomsonCrossSection(typeParticle):    \n",
    "    return 8.*pi*(classicalRadius(typeParticle)**2)/3\n",
    "\n",
    "def restEnergy(typeParticle):\n",
    "    c = lightVelocity\n",
    "    return mass(typeParticle)*c*c"
   ]
  },
  {
   "cell_type": "markdown",
   "id": "3a5a433f",
   "metadata": {},
   "source": [
    "### Blackbody radiation"
   ]
  },
  {
   "cell_type": "code",
   "execution_count": 4,
   "id": "c30f36a6",
   "metadata": {},
   "outputs": [],
   "source": [
    "#Function that returns the Planck distribution for a black body at temperature T\n",
    "\n",
    "def blackBody(\n",
    "    gasTemperature:float, \n",
    "    EphGrid:int=100,\n",
    "    fraccEphmin:float=1e-8,\n",
    "    fraccEphmax:float=1e2)->tuple:\n",
    "    \n",
    "    c = lightVelocity\n",
    "    kb = boltzmannConstant\n",
    "    hp = planckConstant\n",
    "    T = gasTemperature\n",
    "    Epeak = 1.59*kb*T\n",
    "    Ephmin = fraccEphmin*Epeak\n",
    "    Ephmax = fraccEphmax*Epeak\n",
    "    arrEph = np.logspace(log10(Ephmin), log10(Ephmax), EphGrid)\n",
    "    arrNph = 8*pi*arrEph**2 / ((np.exp(arrEph/kb/T)) - 1)/(hp*c)**3  \n",
    "    Uph = 8*pi**5*(kb*T)**4/15/(c*hp)**3\n",
    "    return arrEph, arrNph, Uph"
   ]
  },
  {
   "cell_type": "code",
   "execution_count": 5,
   "id": "1fa02e59",
   "metadata": {},
   "outputs": [],
   "source": [
    "# Auxiliary function that returns limits of intervals in which we divide the range of integration\n",
    "\n",
    "def getSubArrays(arr:np.ndarray, \n",
    "                 tol=1e-6):    \n",
    "    #---------------------------------------------------------------------\n",
    "    # Getting the sub arrays\n",
    "    # array 1: [Emin : 10Emin]\n",
    "    # array 2: [10Emin : 100Emin]\n",
    "    # ...\n",
    "    # array N = [10^(N-1) Emin : 10^N Emin]\n",
    "    # if 10^N Emin < Emax then one more array is added \n",
    "    #   interval N+1 = [10^N Emin : Emax]        \n",
    "    #---------------------------------------------------------------------        \n",
    "    xmin = arr[0]\n",
    "    xmax = arr[-1]\n",
    "    nArrays = int(np.log10(xmax/xmin))\n",
    "    key = abs(xmax - xmin*10**nArrays) < tol*xmax \n",
    "    if not key:\n",
    "        nArrays += 1\n",
    "    #---------------------------------------------------------------------            \n",
    "    # Setting the arrays of minimum and maximum energy\n",
    "    # K sub arrays (K = N or K = N+1)\n",
    "    # arrEmin = [Emin, 10Emin, 100Emin, ..., 10^(K-1)Emin]\n",
    "    # arrEmax = [Emax, 10Emax, 100Emax, ..., min(10^K Emin, Emax)]\n",
    "    #---------------------------------------------------------------------\n",
    "    arrMin = np.ones(nArrays) \n",
    "    arrMax = np.ones(nArrays)\n",
    "    for i in range(nArrays):\n",
    "        arrMin[i] = xmin*10**(i)\n",
    "        arrMax[i] = xmin*10**(i+1)    \n",
    "    if not key:            \n",
    "        arrMax[-1] = xmax\n",
    "    return arrMin, arrMax "
   ]
  },
  {
   "cell_type": "markdown",
   "id": "1b96ce66",
   "metadata": {},
   "source": [
    "### Absorption cross section"
   ]
  },
  {
   "cell_type": "code",
   "execution_count": 6,
   "id": "1d865ef7",
   "metadata": {},
   "outputs": [],
   "source": [
    "# Function that returns the cross section by gamma-ray absorption\n",
    "\n",
    "def absorptionCrossSection(pairParticle:str,              \n",
    "                           gammaRayEnergy:float,                           \n",
    "                           channel:str='photon-photon annihilation', \n",
    "                           targetPhotonEnergy:float=None,\n",
    "                           nucleiType:str='naked', \n",
    "                           atomicNumber:int=1,\n",
    "                           interactionAngle:float=0,\n",
    "                           verbose:bool=False):\n",
    "    \n",
    "    Er = restEnergy(pairParticle)\n",
    "    Eph = targetPhotonEnergy\n",
    "    Eg = gammaRayEnergy\n",
    "    rcl = classicalRadius(pairParticle)\n",
    "    \n",
    "    if channel == 'photon-photon annihilation':        \n",
    "        sigmaT = thomsonCrossSection(pairParticle)\n",
    "        s = Eg*Eph/Er/Er\n",
    "        if s < 1 or isclose(s, 1):\n",
    "            if verbose:\n",
    "                print(f\"The kinematic threshold for producing pairs is not reached\")\n",
    "            return 0\n",
    "        f1 = (s + 0.5*log(s) - 1/6 + 1/2/s)*log(sqrt(s) + sqrt(s-1))  \n",
    "        f2 = (s + 4/9 - 1/9/s)*sqrt(1 - 1/s)    \n",
    "        return 3*sigmaT*(f1 - f2)/2/s/s    \n",
    "    \n",
    "    elif channel == 'electrostatic annihilation':\n",
    "        Ethr = 2*Er       \n",
    "        if Eg < Ethr or isclose(Eg, Ethr):\n",
    "            if verbose:\n",
    "                print(f\"The kinematic threshold for producing pairs is not reached\")\n",
    "            return 0         \n",
    "        a = fineStructureConstant                \n",
    "        Z = atomicNumber\n",
    "        if nucleiType == 'naked':            \n",
    "            return 4*a*Z*Z*rcl*rcl*(7*log(2*Eg/Er) - 109/54.)\n",
    "        if nucleiType == 'shielded':\n",
    "            return 4*a*Z*Z*rcl*rcl*(7*log(183/Z**(1/3)) /9. - 1/54.)\n",
    "    \n",
    "    elif channel == 'direct Compton':\n",
    "        return 8*pi*rcl*rcl/3\n",
    "            \n",
    "        "
   ]
  },
  {
   "cell_type": "markdown",
   "id": "89d0aa5a",
   "metadata": {},
   "source": [
    "**Example**: Plot the cross section for gamma-ray absorption by photon-photon annihilation. Consider a photon with $E_{\\gamma}=1\\,{\\rm TeV}$ in a radiation field of a blackbody at $T = 10^{4}\\,{\\rm K}$."
   ]
  },
  {
   "cell_type": "code",
   "execution_count": 7,
   "id": "26227135",
   "metadata": {},
   "outputs": [],
   "source": [
    "kb = boltzmannConstant\n",
    "\n",
    "Eg = 1e12 *ev2erg\n",
    "\n",
    "T = 1e4\n",
    "Ephmin = 1e-10 *2.7*kb*T\n",
    "Ephmax = 1e4 *2.7*kb*T\n",
    "EphGrid = 1000\n",
    "arrEph = np.logspace(np.log10(Ephmin), np.log10(Ephmax), EphGrid)"
   ]
  },
  {
   "cell_type": "code",
   "execution_count": 8,
   "id": "13e7036e",
   "metadata": {},
   "outputs": [],
   "source": [
    "arrCS = np.empty_like(arrEph)\n",
    "for i, Eph in enumerate(arrEph):\n",
    "    arrCS[i] = absorptionCrossSection(pairParticle='electron',\n",
    "                                      gammaRayEnergy=Eg,\n",
    "                                      targetPhotonEnergy=Eph)"
   ]
  },
  {
   "cell_type": "code",
   "execution_count": 9,
   "id": "16782f05",
   "metadata": {},
   "outputs": [
    {
     "data": {
      "image/png": "[encoded data removed]",
      "text/plain": [
       "<Figure size 576x360 with 1 Axes>"
      ]
     },
     "metadata": {
      "needs_background": "light"
     },
     "output_type": "display_data"
    }
   ],
   "source": [
    "# Plotting the cross section\n",
    "\n",
    "Er = restEnergy('electron')\n",
    "\n",
    "plt.figure(figsize=(8,5))\n",
    "plt.plot(np.log10(Eg*arrEph/Er/Er), np.log10(arrCS/thomsonCrossSection('electron')), lw=3, c=\"green\")\n",
    "plt.xlabel(r\"$\\log_{10} (s_0)$\", fontsize=14)\n",
    "plt.ylabel(r\"$\\log_{10} (\\sigma_{\\gamma \\gamma}\\,/\\,\\sigma_{\\rm T})$\", fontsize=14)\n",
    "plt.xticks(fontsize=14)\n",
    "plt.yticks(fontsize=14)\n",
    "plt.ylim(-3.5,0)\n",
    "plt.xlim(-0.5,4.5)\n",
    "plt.title(\"Total cross section for photon-photon annihilation\", fontsize=14)\n",
    "plt.show()"
   ]
  },
  {
   "cell_type": "code",
   "execution_count": 10,
   "id": "4e8eb812",
   "metadata": {},
   "outputs": [],
   "source": [
    "nOpticalDepth = 10\n",
    "\n",
    "def getNodesGL(points):\n",
    "    return np.polynomial.legendre.leggauss(points) "
   ]
  },
  {
   "cell_type": "code",
   "execution_count": 11,
   "id": "4c699e2c",
   "metadata": {},
   "outputs": [],
   "source": [
    "def opticalDepth(arrPhotonEnergy:np.array, \n",
    "                 arrPhotonDensity:np.array,\n",
    "                 sourceSize:float, \n",
    "                 incidentPhotonEnergy:float, \n",
    "                 pairParticle:str='electron'):\n",
    "    \n",
    "    Eg = incidentPhotonEnergy\n",
    "    Er = restEnergy(pairParticle)\n",
    "    arrEph, arrNph = arrPhotonEnergy, arrPhotonDensity     \n",
    "        \n",
    "    s = float(Eg*arrEph[-1]/Er/Er)\n",
    "    \n",
    "    if s < 1:\n",
    "        return 0\n",
    "    \n",
    "    Ethr = Er*Er/Eg\n",
    "    arrNph = np.delete(arrNph, arrEph <= Ethr)\n",
    "    arrEph = np.delete(arrEph, arrEph <= Ethr)\n",
    "    \n",
    "    if len(arrEph) == 0:\n",
    "        return 0\n",
    "    \n",
    "    arrEmin, arrEmax = getSubArrays(arrEph)\n",
    "    #---------------------------------------------------------------------\n",
    "    # Getting the specific emissivity\n",
    "    # partialEmissivity[i] = Emissivity between arrEmin[i], arrEmax[i]\n",
    "    #---------------------------------------------------------------------\n",
    "    partialOpticalDepth = np.empty_like(arrEmin)\n",
    "\n",
    "    arrXgl, arrWgl = getNodesGL(nOpticalDepth)\n",
    "    for i in range(len(arrEmin)):\n",
    "        #-----------------------------------------------------------------\n",
    "        # arrE = [arrEmin[i]:arrEmax[i]]\n",
    "        # arrN = N(arrE)\n",
    "        # arrP = single particle power for arrE\n",
    "        #-----------------------------------------------------------------\n",
    "        arrE_ = 0.5*(arrEmax[i]-arrEmin[i])*arrXgl + 0.5*\\\n",
    "          (arrEmax[i]+arrEmin[i])\n",
    "        arrN_ = np.interp(arrE_,arrEph,arrNph)        \n",
    "        arrCS_ = np.empty_like(arrE_)\n",
    "        for k, Eph_ in enumerate(arrE_):\n",
    "            arrCS_ = absorptionCrossSection(pairParticle=pairParticle,\n",
    "                                            gammaRayEnergy=incidentPhotonEnergy,\n",
    "                                            targetPhotonEnergy=Eph_)\n",
    "            \n",
    "        partialOpticalDepth[i] = 0.5*(arrEmax[i]-arrEmin[i])*\\\n",
    "            sum(arrWgl*arrN_*arrCS_)\n",
    "    return sourceSize*partialOpticalDepth.sum()"
   ]
  },
  {
   "cell_type": "markdown",
   "id": "a134d5ef",
   "metadata": {},
   "source": [
    "**Example**: A photon of energy $1\\,{\\rm GeV}$ travels through the inner accretion disk of the active galactic nucleus Arkelian 120. The number density of the inner disk is $n = 10^{16}\\,{\\rm cm^{-3}}$, and we assume that the thickness of the region is $z = 2.25\\times10^{16}\\,{\\rm cm}$ ($1000\\,r_{\\rm g}$ for a black hole with $M_{\\rm BH} = 1.5\\times 10^{8}\\,M_{\\odot}$), and plasma is composed of fully ionized hydrogen. Calculate the probability that the photon completely traverses the disk considering creation of electron-positron pairs in the electrostatic field of the plasma nuclei. If the photon is absorbed, at what typical distance is absorption expected to occur?"
   ]
  },
  {
   "cell_type": "code",
   "execution_count": 12,
   "id": "d2c5ba62",
   "metadata": {},
   "outputs": [
    {
     "name": "stdout",
     "output_type": "stream",
     "text": [
      "The probability that the photon passes completely through the disk is 0.0\n"
     ]
    }
   ],
   "source": [
    "# Parameters of the disk\n",
    "\n",
    "z = 2.25e16\n",
    "n = 1e16\n",
    "\n",
    "# Cross section\n",
    "\n",
    "sigma = absorptionCrossSection(pairParticle='electron', \n",
    "                               gammaRayEnergy=1e9 *ev2erg, \n",
    "                               channel='electrostatic annihilation', \n",
    "                               nucleiType='naked', \n",
    "                               atomicNumber=1)\n",
    "\n",
    "# Mean free path of the photon in the disk\n",
    "\n",
    "mfp = 1/sigma/n\n",
    "\n",
    "# Probability of absorption\n",
    "\n",
    "prob = exp(-z/mfp)\n",
    "print(f\"The probability that the photon passes completely through the disk is {prob:0.1f}\")"
   ]
  },
  {
   "cell_type": "code",
   "execution_count": 13,
   "id": "bb8e9488",
   "metadata": {},
   "outputs": [
    {
     "name": "stdout",
     "output_type": "stream",
     "text": [
      "The photon is absorbed in the Coulombian field when it travels a typical distance of 7.72e+08 cm\n"
     ]
    }
   ],
   "source": [
    "print(f\"The photon is absorbed in the Coulombian field when it travels a typical distance of {mfp:0.2e} cm\")"
   ]
  },
  {
   "cell_type": "markdown",
   "id": "c7415b71",
   "metadata": {},
   "source": [
    "**Example**: Calculate the mean free path of a photon with $E=10\\,{\\rm TeV}$  in the cosmic microwave background."
   ]
  },
  {
   "cell_type": "markdown",
   "id": "b9b9dcd6",
   "metadata": {},
   "source": [
    "If we assume that the CMB can be modeled as monochromatic radiation from a black body:\n",
    "\n",
    "$$\\langle E_{\\rm ph} \\rangle = 2.7 \\kappa_{\\rm B}T_{\\rm CMB} = 2.3\\times 10^{-10}\\left(\\frac{T_{\\rm CMB}}{1\\,{\\rm K}} \\right)\\,{\\rm MeV}$$\n",
    "\n",
    "Then\n",
    "\n",
    "$$\\langle E_{\\rm ph} \\rangle \\approx 6.3\\times 10^{-4}\\,{\\rm eV}$$"
   ]
  },
  {
   "cell_type": "code",
   "execution_count": 14,
   "id": "e422b887",
   "metadata": {},
   "outputs": [
    {
     "name": "stdout",
     "output_type": "stream",
     "text": [
      "The kinematic threshold for producing pairs is not reached\n"
     ]
    }
   ],
   "source": [
    "# Parameters of the photons\n",
    "\n",
    "Tcmb = 2.725\n",
    "Ecmb = 2.7*boltzmannConstant*Tcmb\n",
    "Eg = 1e1 *1e12 *ev2erg\n",
    "\n",
    "\n",
    "# Cross section\n",
    "\n",
    "sigma = absorptionCrossSection(pairParticle='electron', \n",
    "                               gammaRayEnergy=Eg, \n",
    "                               channel='photon-photon annihilation', \n",
    "                               targetPhotonEnergy=Ecmb, \n",
    "                               verbose=True)"
   ]
  },
  {
   "cell_type": "markdown",
   "id": "46cf39e0",
   "metadata": {},
   "source": [
    "We see that the monochromatic approach fails. Photons with $E_{\\gamma} = 10\\,{\\rm TeV}$ require more energetic targets to be absorbed."
   ]
  },
  {
   "cell_type": "code",
   "execution_count": 15,
   "id": "a362a0d8",
   "metadata": {},
   "outputs": [
    {
     "name": "stdout",
     "output_type": "stream",
     "text": [
      "The threshold energy for CMB photons to annihilate with the photon of 10 TeV is 2.61e-02 eV\n"
     ]
    }
   ],
   "source": [
    "Er = restEnergy('electron')\n",
    "Ethr = Er*Er/Eg\n",
    "print(f\"The threshold energy for CMB photons to annihilate with the photon of 10 TeV is {Ethr*erg2ev:0.2e} eV\")"
   ]
  },
  {
   "cell_type": "markdown",
   "id": "3e7e338f",
   "metadata": {},
   "source": [
    "$$\\lambda_{\\gamma \\gamma}^{-1}(E_{\\gamma}) = \\int_{E_{\\rm thr}(E_{\\gamma})}^{\\infty} {\\rm d}E_{\\rm ph} \\sigma_{\\gamma \\gamma}( E_{\\gamma}, E_{\\rm ph})\\, n_{\\rm ph}(E_{\\rm ph})$$"
   ]
  },
  {
   "cell_type": "code",
   "execution_count": 16,
   "id": "d0f58fdb",
   "metadata": {},
   "outputs": [],
   "source": [
    "Epeak = 1.59*boltzmannConstant*Tcmb\n",
    "fraccEphmin = Ethr/Epeak\n",
    "fraccEphmax = 1e2 *fraccEphmin\n",
    "EphGrid = 100\n",
    "\n",
    "arrEph, arrNph, Uph = blackBody(gasTemperature=Tcmb, EphGrid=EphGrid, fraccEphmin=fraccEphmin, fraccEphmax=fraccEphmax)"
   ]
  },
  {
   "cell_type": "code",
   "execution_count": 17,
   "id": "f7d802a3",
   "metadata": {},
   "outputs": [
    {
     "name": "stdout",
     "output_type": "stream",
     "text": [
      "The mean free path of the photon of 10 TeV in the CMB is 6.09e+42 Gpc\n"
     ]
    }
   ],
   "source": [
    "nodes = 10\n",
    "\n",
    "arrEmin, arrEmax = getSubArrays(arrEph)\n",
    "partialIntegral = np.empty_like(arrEmin)\n",
    "arrXgl, arrWgl = getNodesGL(nodes)\n",
    "\n",
    "for i in range(len(arrEmin)):\n",
    "    arrE_ = 0.5*(arrEmax[i]-arrEmin[i])*arrXgl + 0.5*\\\n",
    "      (arrEmax[i]+arrEmin[i])    \n",
    "    arrN_ = np.interp(arrE_,arrEph,arrNph)        \n",
    "    arrCS_ = np.empty_like(arrE_)\n",
    "    for k, Eph_ in enumerate(arrE_):\n",
    "        arrCS_ = absorptionCrossSection(pairParticle='electron',\n",
    "                                        gammaRayEnergy=Eg,\n",
    "                                        channel='photon-photon annihilation',\n",
    "                                        targetPhotonEnergy=Eph_)\n",
    "    partialIntegral[i] = 0.5*(arrEmax[i]-arrEmin[i])*sum(arrWgl*arrN_*arrCS_)  \n",
    "    \n",
    "mfp = 1/partialIntegral.sum()\n",
    "\n",
    "print(f\"The mean free path of the photon of 10 TeV in the CMB is {mfp/pc2cm/1e9:0.2e} Gpc\")"
   ]
  },
  {
   "cell_type": "markdown",
   "id": "3e4a204f",
   "metadata": {},
   "source": [
    "We see that the CMB is transparent to photons of $E_{\\gamma} = 10\\,{\\rm TeV}$."
   ]
  },
  {
   "cell_type": "markdown",
   "id": "195bbaf7",
   "metadata": {},
   "source": [
    "**Example**: Consider a star of effective temperature $T_* = 40\\,000\\,{\\rm K}$ and radius $R_* = 15\\,R_{\\odot}$. Gamma rays are emitted at a distance $r$ from the center of the star. Calculate, as a function of $r$, the optical depth of the radiation field of the star for a photon with $E_{\\gamma} = 100\\,{\\rm GeV}$. To do this, we assume the radiation field as isotropic.\n"
   ]
  },
  {
   "cell_type": "markdown",
   "id": "c5cfb073",
   "metadata": {},
   "source": [
    "By conservation of the flux of the radiation field:\n",
    "\n",
    "$$ n_{\\rm ph}(E_{\\rm ph}, r) = \\left(\\frac{R_{*}}{r}\\right)^2 n_{\\rm ph}(E_{\\rm ph}, R_{*}) = \\left(\\frac{R_{*}}{r}\\right)^2 n_{\\rm BB}(E_{\\rm ph}, T_*)\\left(\\frac{R_{*}}{r}\\right)^2 n_{\\rm BB}(E_{\\rm ph}, T_*)\\qquad [{\\rm erg^{-1}\\,cm^{-3}}]$$\n",
    "\n",
    "where $n_{\\rm BB}(E_{\\rm ph}, T_{*})$ corresponds to the energy density at the surface of the blackbody"
   ]
  },
  {
   "cell_type": "markdown",
   "id": "536aefeb",
   "metadata": {},
   "source": [
    "$$\\tau_{\\gamma \\gamma}(E_{\\gamma}, r) = \\int_{r}^{\\infty}{\\rm d}r \\int_{E_{\\rm thr}(E_{\\gamma})}^{\\infty}{\\rm d}E_{\\rm ph}\\, n_{\\rm ph}(E_{\\rm ph}, r)\\, \\sigma_{\\gamma \\gamma}(E_{\\gamma}, E_{\\rm ph})$$\n",
    "\n",
    "$$\\tau_{\\gamma \\gamma}(E_{\\gamma}, r) = \\int_{r}^{\\infty}{\\rm d}r\\, \\left(\\frac{R_{*}}{r}\\right)^2 \\int_{E_{\\rm thr}(E_{\\gamma})}^{\\infty}{\\rm d}E_{\\rm ph}\\,  n_{\\rm BB}(E_{\\rm ph}, T_*)\\, \\sigma_{\\gamma \\gamma}(E_{\\gamma}, E_{\\rm ph})$$\n",
    "\n",
    "$$ \\tau_{\\gamma \\gamma}(E_{\\gamma}, r) = \\int_{r}^{\\infty}{\\rm d}r\\, \\left(\\frac{R_{*}}{r}\\right)^2 \\lambda_{\\gamma \\gamma}^{-1}(E_{\\gamma})$$\n",
    "\n",
    "$$ \\tau_{\\gamma \\gamma}(E_{\\gamma}, r) = \\frac{R_{*}^2}{r\\lambda_{\\gamma \\gamma}(E_{\\gamma})} $$\n",
    "\n",
    "where $\\lambda_{\\gamma \\gamma}(E_{\\gamma})$ is the mean free path of the photon with energy $E_{\\gamma}$ in a radiation field of a blackbody at temperature $T_*$."
   ]
  },
  {
   "cell_type": "code",
   "execution_count": 18,
   "id": "a957589b",
   "metadata": {},
   "outputs": [],
   "source": [
    "Rstar = 15*solarRadius\n",
    "Tstar = 4e4\n",
    "Eg = 1e1 *1e12 *ev2erg\n",
    "Er = restEnergy('electron')\n",
    "\n",
    "rmin = Rstar\n",
    "rmax = 1e2 * rmin\n",
    "rGrid = 1000\n",
    "arrR = np.logspace(np.log10(rmin), np.log10(rmax), rGrid)\n",
    "\n",
    "Ethr = Er*Er/Eg\n",
    "Epeak = 1.59*boltzmannConstant*Tstar\n",
    "Ephmin = Ethr\n",
    "Ephmax = max(Ethr,Epeak)*1000\n",
    "fEphmin = Ephmin/Epeak\n",
    "fEphmax = Ephmax/Epeak\n",
    "EphGrid = 1000\n",
    "arrEph, arrNph, Uph = blackBody(gasTemperature=Tstar, EphGrid=EphGrid, fraccEphmin=fEphmin, fraccEphmax=fEphmax)"
   ]
  },
  {
   "cell_type": "code",
   "execution_count": 19,
   "id": "a5cb83eb",
   "metadata": {},
   "outputs": [],
   "source": [
    "nodes = 10\n",
    "\n",
    "arrEmin, arrEmax = getSubArrays(arrEph)\n",
    "partialIntegral = np.empty_like(arrEmin)\n",
    "arrXgl, arrWgl = getNodesGL(nodes)\n",
    "\n",
    "for i in range(len(arrEmin)):\n",
    "    arrE_ = 0.5*(arrEmax[i]-arrEmin[i])*arrXgl + 0.5*\\\n",
    "      (arrEmax[i]+arrEmin[i])    \n",
    "    arrN_ = np.interp(arrE_,arrEph,arrNph)        \n",
    "    arrCS_ = np.empty_like(arrE_)\n",
    "    for k, Eph_ in enumerate(arrE_):\n",
    "        arrCS_ = absorptionCrossSection(pairParticle='electron',\n",
    "                                        gammaRayEnergy=Eg,\n",
    "                                        channel='photon-photon annihilation',\n",
    "                                        targetPhotonEnergy=Eph_)\n",
    "    partialIntegral[i] = 0.5*(arrEmax[i]-arrEmin[i])*sum(arrWgl*arrN_*arrCS_)  \n",
    "    \n",
    "mfp = 1/partialIntegral.sum()\n",
    "arrTau = Rstar**2 /mfp/arrR"
   ]
  },
  {
   "cell_type": "code",
   "execution_count": 20,
   "id": "77f50945",
   "metadata": {},
   "outputs": [
    {
     "data": {
      "image/png": "[encoded data removed]",
      "text/plain": [
       "<Figure size 576x360 with 1 Axes>"
      ]
     },
     "metadata": {
      "needs_background": "light"
     },
     "output_type": "display_data"
    }
   ],
   "source": [
    "# Plotting the cross section\n",
    "\n",
    "\n",
    "plt.figure(figsize=(8,5))\n",
    "#plt.plot(np.log10(arrR/Rstar), np.log10(arrTau), lw=3, c=\"green\")\n",
    "plt.plot((arrR/Rstar), (arrTau), lw=3, c=\"green\")\n",
    "plt.xlabel(r\"$r\\,/\\,R_{*}$\", fontsize=14)\n",
    "plt.ylabel(r\"$\\tau_{\\gamma \\gamma}(r)$\", fontsize=14)\n",
    "plt.xticks(fontsize=14)\n",
    "plt.yticks(fontsize=14)\n",
    "plt.grid()\n",
    "#plt.ylim(-3.5,0)\n",
    "plt.xlim(1,100)\n",
    "plt.xticks([1,10,20,40,60,80,100])\n",
    "plt.title(r\"Optical depth for a gamma ray with $E_{\\gamma}=10\\,{\\rm TeV}$\", fontsize=14)\n",
    "plt.show()"
   ]
  },
  {
   "cell_type": "markdown",
   "id": "3c943cdf",
   "metadata": {},
   "source": [
    "It can be better visualized with a heat map"
   ]
  },
  {
   "cell_type": "code",
   "execution_count": 21,
   "id": "5174b6cd",
   "metadata": {},
   "outputs": [],
   "source": [
    "# Input parameters\n",
    "\n",
    "Egmin = 1e9 *ev2erg\n",
    "Egmax = 1e15 *ev2erg\n",
    "EgGrid = 100\n",
    "arrEph = np.logspace(np.log10(Egmin), np.log10(Egmax), EgGrid)\n",
    "\n",
    "Rstar = 15*solarRadius\n",
    "rmin = Rstar\n",
    "rmax = 1e4 * rmin\n",
    "rGrid = 100\n",
    "arrR = np.logspace(np.log10(rmin), np.log10(rmax), rGrid)"
   ]
  },
  {
   "cell_type": "code",
   "execution_count": 25,
   "id": "9beb1b3c",
   "metadata": {},
   "outputs": [],
   "source": [
    "# Mean free path for a gamma ray in a radiation field of a blackbody\n",
    "\n",
    "def mfp_blackbody(gasTemperature:float, \n",
    "                  photonEnergy:float,\n",
    "                  pairParticle:str='electron',                   \n",
    "                  nodesGL:int=10, \n",
    "                  photonGrid:int=1000, \n",
    "                  fraccEphmax=1000):\n",
    "    \n",
    "    nodesGL = 10\n",
    "    Er = restEnergy(pairParticle)\n",
    "    Eg = photonEnergy\n",
    "    T = gasTemperature\n",
    "    kb = boltzmannConstant\n",
    "    Ethr = Er*Er/Eg\n",
    "    \n",
    "    Epeak = 1.59*kb*T\n",
    "    Ephmin, Ephmax = Ethr, max(Ethr,Epeak)*fraccEphmax    \n",
    "    fEphmin, fEphmax = Ephmin/Epeak, Ephmax/Epeak         \n",
    "    arrEph, arrNph, Uph = blackBody(gasTemperature=T, EphGrid=photonGrid, fraccEphmin=fEphmin, fraccEphmax=fEphmax)\n",
    "    \n",
    "    arrEmin, arrEmax = getSubArrays(arrEph)\n",
    "    partialIntegral = np.empty_like(arrEmin)\n",
    "    arrXgl, arrWgl = getNodesGL(nodesGL)\n",
    "    for i in range(len(arrEmin)):\n",
    "        arrE_ = 0.5*(arrEmax[i]-arrEmin[i])*arrXgl + 0.5*\\\n",
    "          (arrEmax[i]+arrEmin[i])    \n",
    "        arrN_ = np.interp(arrE_,arrEph,arrNph)        \n",
    "        arrCS_ = np.empty_like(arrE_)\n",
    "        for k, Eph_ in enumerate(arrE_):\n",
    "            arrCS_ = absorptionCrossSection(pairParticle='electron',\n",
    "                                            gammaRayEnergy=Eg,\n",
    "                                            channel='photon-photon annihilation',\n",
    "                                            targetPhotonEnergy=Eph_)\n",
    "        partialIntegral[i] = 0.5*(arrEmax[i]-arrEmin[i])*sum(arrWgl*arrN_*arrCS_)      \n",
    "\n",
    "    return 1/partialIntegral.sum()"
   ]
  },
  {
   "cell_type": "code",
   "execution_count": 26,
   "id": "f62aa247",
   "metadata": {},
   "outputs": [],
   "source": [
    "# Optical depth for a gamma ray in a radiation field of a star\n",
    "\n",
    "def tau_star(distance:float,\n",
    "             starRadius:float,\n",
    "             starTemperature:float, \n",
    "             photonEnergy:float,\n",
    "             pairParticle:str='electron',                   \n",
    "             nodesGL:int=10, \n",
    "             photonGrid:int=1000, \n",
    "             fraccEphmax=1000):\n",
    "    \n",
    "    mfp = mfp_blackbody(starTemperature, \n",
    "                        photonEnergy,\n",
    "                        pairParticle,                   \n",
    "                        nodesGL, \n",
    "                        photonGrid, \n",
    "                        fraccEphmax)\n",
    "\n",
    "    return starRadius**2 /mfp/distance"
   ]
  },
  {
   "cell_type": "code",
   "execution_count": 27,
   "id": "2fba77e2",
   "metadata": {},
   "outputs": [],
   "source": [
    "# Meshs\n",
    "\n",
    "EphMesh, rMesh = np.meshgrid(arrEph, arrR)\n",
    "TauMesh = np.empty_like(EphMesh)\n",
    "for i in range(EgGrid):\n",
    "    for j in range(rGrid):\n",
    "        TauMesh[i][j] = tau_star(distance=rMesh[i][j],\n",
    "                                 starRadius=Rstar,\n",
    "                                 starTemperature=Tstar,\n",
    "                                 photonEnergy=EphMesh[i][j],\n",
    "                                 photonGrid=EgGrid)            "
   ]
  },
  {
   "cell_type": "code",
   "execution_count": 28,
   "id": "cf0f5d21",
   "metadata": {},
   "outputs": [
    {
     "data": {
      "image/png": "[encoded data removed]",
      "text/plain": [
       "<Figure size 576x432 with 2 Axes>"
      ]
     },
     "metadata": {
      "needs_background": "light"
     },
     "output_type": "display_data"
    }
   ],
   "source": [
    "plt.figure(figsize=(8,6))\n",
    "\n",
    "img = plt.contourf(np.log10(EphMesh*erg2ev), np.log10(rMesh/Rstar), np.exp(-TauMesh), vmin=0, vmax=1, cmap='viridis')\n",
    "plt.xlabel(r'$log_{10}(E_{\\gamma}/{\\rm eV})$', fontsize=14)\n",
    "plt.ylabel(r'$log_{10}(r/R_{*})$', fontsize=14)\n",
    "plt.xticks(fontsize=14)\n",
    "plt.yticks(fontsize=14)\n",
    "cbar = plt.colorbar(ticks=[0,0.2,0.4,0.6,0.8,1])\n",
    "tick_font_size = 14\n",
    "cbar.ax.tick_params(labelsize=tick_font_size)\n",
    "cbar.set_label(label=r'$\\exp(-\\tau_{\\gamma \\gamma})$', fontsize=14)\n",
    "plt.title(r\"Gamma-ray attenuation factor\", fontsize=14)\n",
    "plt.annotate(r\"$T_{*} = 4\\times 10^{4}\\,{\\rm K}$\", (9.5,3.5), fontsize=14)\n",
    "plt.annotate(r\"$R_{*} = 15\\,R_{\\odot}$\", (9.5,3.2), fontsize=14)\n",
    "plt.tight_layout()\n",
    "\n",
    "CS = plt.contour(np.log10(EphMesh*erg2ev), np.log10(rMesh/Rstar), np.exp(-TauMesh), 6, colors='k', linestyles='dashdot', linewidths=1)\n",
    "plt.clabel(CS, inline=True, fontsize=12)\n",
    "\n",
    "plt.show()"
   ]
  },
  {
   "cell_type": "markdown",
   "id": "6fd40f0a",
   "metadata": {},
   "source": [
    "We see that the attenuated radiation have energies in the range $E_{\\gamma}=10\\,{\\rm GeV} - 100\\,{\\rm TeV}$, and it is produced below $r < 100\\,R_{*}$."
   ]
  },
  {
   "cell_type": "markdown",
   "id": "f808a3c0",
   "metadata": {},
   "source": [
    "References:\n",
    "\n",
    "- Introduction to Relativistic Astrophysics, Gustavo E. Romero (2018)\n",
    "- PhD. Thesis, Gabriela S. Vila (2012)\n",
    "- Introduction to Black Hole Astrophysics, Gustavo E. Romero & Gabriela S. Vila (2014)"
   ]
  }
 ],
 "metadata": {
  "kernelspec": {
   "display_name": "Python 3 (ipykernel)",
   "language": "python",
   "name": "python3"
  },
  "language_info": {
   "codemirror_mode": {
    "name": "ipython",
    "version": 3
   },
   "file_extension": ".py",
   "mimetype": "text/x-python",
   "name": "python",
   "nbconvert_exporter": "python",
   "pygments_lexer": "ipython3",
   "version": "3.8.10"
  }
 },
 "nbformat": 4,
 "nbformat_minor": 5
}
